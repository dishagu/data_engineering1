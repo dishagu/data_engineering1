{
 "cells": [
  {
   "cell_type": "code",
   "execution_count": 23,
   "id": "d24c0ca8-2f38-4f19-906f-577f9de7b2ee",
   "metadata": {},
   "outputs": [
    {
     "name": "stdout",
     "output_type": "stream",
     "text": [
      "Data scraped and saved to players_data_t20i_specific_countries.csv\n"
     ]
    }
   ],
   "source": [
    "from selenium import webdriver\n",
    "from selenium.webdriver.common.by import By\n",
    "from selenium.webdriver.support.ui import Select\n",
    "from selenium.webdriver.support.ui import WebDriverWait\n",
    "from selenium.webdriver.support import expected_conditions as EC\n",
    "import pandas as pd\n",
    "from selenium.common.exceptions import StaleElementReferenceException\n",
    "\n",
    "\n",
    "driver = webdriver.Chrome()\n",
    "\n",
    "\n",
    "driver.get(\"https://www.howstat.com/cricket/Statistics/Players/PlayerCountryList.asp\")\n",
    "\n",
    "\n",
    "wait = WebDriverWait(driver, 10)\n",
    "\n",
    "country_dropdown = wait.until(EC.presence_of_element_located((By.NAME, \"cboCountry\")))\n",
    "\n",
    "\n",
    "specific_countries = [\"Afghanistan\", \"Australia\", \"Bangladesh\", \"England\", \"India\", \"Ireland\", \"New Zealand\", \"Pakistan\", \"South Africa\", \"Sri Lanka\", \"West Indies\", \"Zimbabwe\"]\n",
    "\n",
    "\n",
    "all_players_data = []\n",
    "\n",
    "\n",
    "for country in specific_countries:\n",
    "\n",
    "    select_country = Select(country_dropdown)\n",
    "    select_country.select_by_visible_text(country)\n",
    "\n",
    "    \n",
    "    driver.find_element(By.NAME, \"cboCountry\").click()\n",
    "    \n",
    "    format_dropdown = wait.until(EC.presence_of_element_located((By.NAME, \"cboFormat\")))\n",
    "    select_format = Select(format_dropdown)\n",
    "    select_format.select_by_visible_text(\"T20I\")\n",
    "\n",
    "    \n",
    "    table = wait.until(EC.presence_of_element_located((By.CLASS_NAME, \"TableLined\")))\n",
    "\n",
    "    \n",
    "    rows = table.find_elements(By.TAG_NAME, \"tr\")\n",
    "\n",
    "    \n",
    "    for i in range(1,len(rows)):  \n",
    "        try:\n",
    "            \n",
    "            table = driver.find_element(By.CLASS_NAME, \"TableLined\")\n",
    "            rows = table.find_elements(By.TAG_NAME, \"tr\")\n",
    "            cols = rows[i].find_elements(By.TAG_NAME, \"td\")\n",
    "            player_info = [col.text for col in cols]\n",
    "            player_info.insert(2, country)  \n",
    "            all_players_data.append(player_info)\n",
    "        except StaleElementReferenceException:\n",
    "            continue\n",
    "\n",
    "    \n",
    "    driver.get(\"https://www.howstat.com/cricket/Statistics/Players/PlayerCountryList.asp\")\n",
    "    country_dropdown = wait.until(EC.presence_of_element_located((By.NAME, \"cboCountry\")))\n",
    "\n",
    "\n",
    "driver.quit()\n",
    "\n",
    "\n",
    "columns = [\"Player Name\", \"Known as\",\"Country\", \"Date of Birth\",\"started career\", \"Matches\", \"Innings\", \"Runs\",\"100s\",\"Highest Score\",\"batting average\", \"wickets\",\"4W\",\"Bowling Average\", \"E/R\",\"Best\"]\n",
    "df = pd.DataFrame(all_players_data, columns=columns)\n",
    "\n",
    "\n",
    "df.to_csv(\"players_data_t20i_specific_countries.csv\", index=False)\n",
    "\n",
    "print(\"Data scraped and saved to players_data_t20i_specific_countries.csv\")\n"
   ]
  },
  {
   "cell_type": "code",
   "execution_count": null,
   "id": "4bb83fdc-c996-4aa2-a2a0-eeaaf555555a",
   "metadata": {},
   "outputs": [],
   "source": []
  },
  {
   "cell_type": "code",
   "execution_count": null,
   "id": "693b9dba-231f-49b9-88b9-9d54b88f8011",
   "metadata": {},
   "outputs": [],
   "source": []
  }
 ],
 "metadata": {
  "kernelspec": {
   "display_name": "Python 3 (ipykernel)",
   "language": "python",
   "name": "python3"
  },
  "language_info": {
   "codemirror_mode": {
    "name": "ipython",
    "version": 3
   },
   "file_extension": ".py",
   "mimetype": "text/x-python",
   "name": "python",
   "nbconvert_exporter": "python",
   "pygments_lexer": "ipython3",
   "version": "3.11.2"
  }
 },
 "nbformat": 4,
 "nbformat_minor": 5
}
